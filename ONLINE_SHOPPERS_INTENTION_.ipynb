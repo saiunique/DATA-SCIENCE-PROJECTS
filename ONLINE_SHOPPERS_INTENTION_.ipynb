{
 "cells": [
  {
   "cell_type": "code",
   "execution_count": 2,
   "metadata": {},
   "outputs": [],
   "source": [
    "#IMPORTING NECESSARY PYTHON PACKAGES\n",
    "import pandas as pd\n",
    "import numpy as np\n",
    "import matplotlib.pyplot as plt\n",
    "import seaborn as sns"
   ]
  },
  {
   "cell_type": "markdown",
   "metadata": {},
   "source": [
    "DATA SET INFORMATION:\n",
    "\n",
    "The dataset consists of feature vectors belonging to 12,330 sessions.\n",
    "The dataset was formed so that each session\n",
    "would belong to a different user in a 1-year period to avoid\n",
    "any tendency to a specific campaign, special day, user\n",
    "profile, or period."
   ]
  },
  {
   "cell_type": "markdown",
   "metadata": {},
   "source": [
    "ATTRIBUTE INFORMATION:\n",
    "\n",
    "The dataset consists of 10 numerical and 8 categorical attributes.\n",
    "The 'Revenue' attribute can be used as the class label.\n",
    "\"Administrative\", \"Administrative Duration\", \"Informational\", \"Informational Duration\", \"Product Related\" and \"Product Related Duration\" represent the number of different types of pages visited by the visitor in that session and total time spent in each of these page categories. The values of these features are derived from the URL information of the pages visited by the user and updated in real time when a user takes an action, e.g. moving from one page to another. The \"Bounce Rate\", \"Exit Rate\" and \"Page Value\" features represent the metrics measured by \"Google Analytics\" for each page in the e-commerce site. The value of \"Bounce Rate\" feature for a web page refers to the percentage of visitors who enter the site from that page and then leave (\"bounce\") without triggering any other requests to the analytics server during that session. The value of \"Exit Rate\" feature for a specific web page is calculated as for all pageviews to the page, the percentage that were the last in the session. The \"Page Value\" feature represents the average value for a web page that a user visited before completing an e-commerce transaction. The \"Special Day\" feature indicates the closeness of the site visiting time to a specific special day (e.g. Mother’s Day, Valentine's Day) in which the sessions are more likely to be finalized with transaction. The value of this attribute is determined by considering the dynamics of e-commerce such as the duration between the order date and delivery date. For example, for Valentina’s day, this value takes a nonzero value between February 2 and February 12, zero before and after this date unless it is close to another special day, and its maximum value of 1 on February 8. The dataset also includes operating system, browser, region, traffic type, visitor type as returning or new visitor, a Boolean value indicating whether the date of the visit is weekend, and month of the year."
   ]
  },
  {
   "cell_type": "code",
   "execution_count": 34,
   "metadata": {},
   "outputs": [],
   "source": [
    "data=pd.read_csv('online_shoppers_intention.csv')"
   ]
  },
  {
   "cell_type": "code",
   "execution_count": 35,
   "metadata": {},
   "outputs": [],
   "source": [
    "#DATA PREPROCESSING OR DATA CLEANING"
   ]
  },
  {
   "cell_type": "code",
   "execution_count": 36,
   "metadata": {},
   "outputs": [
    {
     "data": {
      "text/html": [
       "<div>\n",
       "<style scoped>\n",
       "    .dataframe tbody tr th:only-of-type {\n",
       "        vertical-align: middle;\n",
       "    }\n",
       "\n",
       "    .dataframe tbody tr th {\n",
       "        vertical-align: top;\n",
       "    }\n",
       "\n",
       "    .dataframe thead th {\n",
       "        text-align: right;\n",
       "    }\n",
       "</style>\n",
       "<table border=\"1\" class=\"dataframe\">\n",
       "  <thead>\n",
       "    <tr style=\"text-align: right;\">\n",
       "      <th></th>\n",
       "      <th>Administrative</th>\n",
       "      <th>Administrative_Duration</th>\n",
       "      <th>Informational</th>\n",
       "      <th>Informational_Duration</th>\n",
       "      <th>ProductRelated</th>\n",
       "      <th>ProductRelated_Duration</th>\n",
       "      <th>BounceRates</th>\n",
       "      <th>ExitRates</th>\n",
       "      <th>PageValues</th>\n",
       "      <th>SpecialDay</th>\n",
       "      <th>Month</th>\n",
       "      <th>OperatingSystems</th>\n",
       "      <th>Browser</th>\n",
       "      <th>Region</th>\n",
       "      <th>TrafficType</th>\n",
       "      <th>VisitorType</th>\n",
       "      <th>Weekend</th>\n",
       "      <th>Revenue</th>\n",
       "    </tr>\n",
       "  </thead>\n",
       "  <tbody>\n",
       "    <tr>\n",
       "      <th>0</th>\n",
       "      <td>0.0</td>\n",
       "      <td>0.0</td>\n",
       "      <td>0.0</td>\n",
       "      <td>0.0</td>\n",
       "      <td>1.0</td>\n",
       "      <td>0.0</td>\n",
       "      <td>0.2</td>\n",
       "      <td>0.2</td>\n",
       "      <td>0.0</td>\n",
       "      <td>0.0</td>\n",
       "      <td>Feb</td>\n",
       "      <td>1</td>\n",
       "      <td>1</td>\n",
       "      <td>1</td>\n",
       "      <td>1</td>\n",
       "      <td>Returning_Visitor</td>\n",
       "      <td>False</td>\n",
       "      <td>False</td>\n",
       "    </tr>\n",
       "    <tr>\n",
       "      <th>1</th>\n",
       "      <td>0.0</td>\n",
       "      <td>0.0</td>\n",
       "      <td>0.0</td>\n",
       "      <td>0.0</td>\n",
       "      <td>2.0</td>\n",
       "      <td>64.0</td>\n",
       "      <td>0.0</td>\n",
       "      <td>0.1</td>\n",
       "      <td>0.0</td>\n",
       "      <td>0.0</td>\n",
       "      <td>Feb</td>\n",
       "      <td>2</td>\n",
       "      <td>2</td>\n",
       "      <td>1</td>\n",
       "      <td>2</td>\n",
       "      <td>Returning_Visitor</td>\n",
       "      <td>False</td>\n",
       "      <td>False</td>\n",
       "    </tr>\n",
       "    <tr>\n",
       "      <th>2</th>\n",
       "      <td>0.0</td>\n",
       "      <td>-1.0</td>\n",
       "      <td>0.0</td>\n",
       "      <td>-1.0</td>\n",
       "      <td>1.0</td>\n",
       "      <td>-1.0</td>\n",
       "      <td>0.2</td>\n",
       "      <td>0.2</td>\n",
       "      <td>0.0</td>\n",
       "      <td>0.0</td>\n",
       "      <td>Feb</td>\n",
       "      <td>4</td>\n",
       "      <td>1</td>\n",
       "      <td>9</td>\n",
       "      <td>3</td>\n",
       "      <td>Returning_Visitor</td>\n",
       "      <td>False</td>\n",
       "      <td>False</td>\n",
       "    </tr>\n",
       "  </tbody>\n",
       "</table>\n",
       "</div>"
      ],
      "text/plain": [
       "   Administrative  Administrative_Duration  Informational  \\\n",
       "0             0.0                      0.0            0.0   \n",
       "1             0.0                      0.0            0.0   \n",
       "2             0.0                     -1.0            0.0   \n",
       "\n",
       "   Informational_Duration  ProductRelated  ProductRelated_Duration  \\\n",
       "0                     0.0             1.0                      0.0   \n",
       "1                     0.0             2.0                     64.0   \n",
       "2                    -1.0             1.0                     -1.0   \n",
       "\n",
       "   BounceRates  ExitRates  PageValues  SpecialDay Month  OperatingSystems  \\\n",
       "0          0.2        0.2         0.0         0.0   Feb                 1   \n",
       "1          0.0        0.1         0.0         0.0   Feb                 2   \n",
       "2          0.2        0.2         0.0         0.0   Feb                 4   \n",
       "\n",
       "   Browser  Region  TrafficType        VisitorType  Weekend  Revenue  \n",
       "0        1       1            1  Returning_Visitor    False    False  \n",
       "1        2       1            2  Returning_Visitor    False    False  \n",
       "2        1       9            3  Returning_Visitor    False    False  "
      ]
     },
     "execution_count": 36,
     "metadata": {},
     "output_type": "execute_result"
    }
   ],
   "source": [
    "data.head(3)"
   ]
  },
  {
   "cell_type": "code",
   "execution_count": 37,
   "metadata": {},
   "outputs": [
    {
     "data": {
      "text/plain": [
       "Index(['Administrative', 'Administrative_Duration', 'Informational',\n",
       "       'Informational_Duration', 'ProductRelated', 'ProductRelated_Duration',\n",
       "       'BounceRates', 'ExitRates', 'PageValues', 'SpecialDay', 'Month',\n",
       "       'OperatingSystems', 'Browser', 'Region', 'TrafficType', 'VisitorType',\n",
       "       'Weekend', 'Revenue'],\n",
       "      dtype='object')"
      ]
     },
     "execution_count": 37,
     "metadata": {},
     "output_type": "execute_result"
    }
   ],
   "source": [
    "#The dataset consists of 10 numerical and 8 categorical attributes.\n",
    "data.columns"
   ]
  },
  {
   "cell_type": "markdown",
   "metadata": {},
   "source": [
    "Data types for the existing columns are checked and categorical features which are of int64 are converted as object data type"
   ]
  },
  {
   "cell_type": "code",
   "execution_count": 38,
   "metadata": {},
   "outputs": [
    {
     "data": {
      "text/plain": [
       "Administrative             float64\n",
       "Administrative_Duration    float64\n",
       "Informational              float64\n",
       "Informational_Duration     float64\n",
       "ProductRelated             float64\n",
       "ProductRelated_Duration    float64\n",
       "BounceRates                float64\n",
       "ExitRates                  float64\n",
       "PageValues                 float64\n",
       "SpecialDay                 float64\n",
       "Month                       object\n",
       "OperatingSystems             int64\n",
       "Browser                      int64\n",
       "Region                       int64\n",
       "TrafficType                  int64\n",
       "VisitorType                 object\n",
       "Weekend                       bool\n",
       "Revenue                       bool\n",
       "dtype: object"
      ]
     },
     "execution_count": 38,
     "metadata": {},
     "output_type": "execute_result"
    }
   ],
   "source": [
    "data.dtypes"
   ]
  },
  {
   "cell_type": "markdown",
   "metadata": {},
   "source": [
    "Converting the data types of  categorical columns with more than 2 values  as object"
   ]
  },
  {
   "cell_type": "code",
   "execution_count": 39,
   "metadata": {},
   "outputs": [],
   "source": [
    "for i in ['OperatingSystems','Browser','Region','TrafficType','VisitorType',]:\n",
    "    data[i]=data[i].astype('object')"
   ]
  },
  {
   "cell_type": "code",
   "execution_count": 40,
   "metadata": {},
   "outputs": [
    {
     "name": "stdout",
     "output_type": "stream",
     "text": [
      "<class 'pandas.core.frame.DataFrame'>\n",
      "RangeIndex: 12330 entries, 0 to 12329\n",
      "Data columns (total 18 columns):\n",
      "Administrative             12316 non-null float64\n",
      "Administrative_Duration    12316 non-null float64\n",
      "Informational              12316 non-null float64\n",
      "Informational_Duration     12316 non-null float64\n",
      "ProductRelated             12316 non-null float64\n",
      "ProductRelated_Duration    12316 non-null float64\n",
      "BounceRates                12316 non-null float64\n",
      "ExitRates                  12316 non-null float64\n",
      "PageValues                 12330 non-null float64\n",
      "SpecialDay                 12330 non-null float64\n",
      "Month                      12330 non-null object\n",
      "OperatingSystems           12330 non-null object\n",
      "Browser                    12330 non-null object\n",
      "Region                     12330 non-null object\n",
      "TrafficType                12330 non-null object\n",
      "VisitorType                12330 non-null object\n",
      "Weekend                    12330 non-null bool\n",
      "Revenue                    12330 non-null bool\n",
      "dtypes: bool(2), float64(10), object(6)\n",
      "memory usage: 1.5+ MB\n"
     ]
    }
   ],
   "source": [
    "data.info()"
   ]
  },
  {
   "cell_type": "markdown",
   "metadata": {},
   "source": [
    "Checking for NA values in the data and dropping them since NA count is very less "
   ]
  },
  {
   "cell_type": "code",
   "execution_count": 41,
   "metadata": {},
   "outputs": [
    {
     "data": {
      "text/plain": [
       "Administrative             14\n",
       "Administrative_Duration    14\n",
       "Informational              14\n",
       "Informational_Duration     14\n",
       "ProductRelated             14\n",
       "ProductRelated_Duration    14\n",
       "BounceRates                14\n",
       "ExitRates                  14\n",
       "PageValues                  0\n",
       "SpecialDay                  0\n",
       "Month                       0\n",
       "OperatingSystems            0\n",
       "Browser                     0\n",
       "Region                      0\n",
       "TrafficType                 0\n",
       "VisitorType                 0\n",
       "Weekend                     0\n",
       "Revenue                     0\n",
       "dtype: int64"
      ]
     },
     "execution_count": 41,
     "metadata": {},
     "output_type": "execute_result"
    }
   ],
   "source": [
    "data.isnull().sum()"
   ]
  },
  {
   "cell_type": "code",
   "execution_count": 42,
   "metadata": {},
   "outputs": [],
   "source": [
    "data=data.dropna()"
   ]
  },
  {
   "cell_type": "code",
   "execution_count": 43,
   "metadata": {},
   "outputs": [],
   "source": [
    "from sklearn.preprocessing import LabelEncoder\n",
    "le=LabelEncoder()\n",
    "for i in ['Weekend','Revenue']:\n",
    "    data[i]=le.fit_transform(data[i])"
   ]
  },
  {
   "cell_type": "code",
   "execution_count": 44,
   "metadata": {
    "scrolled": true
   },
   "outputs": [
    {
     "data": {
      "text/html": [
       "<div>\n",
       "<style scoped>\n",
       "    .dataframe tbody tr th:only-of-type {\n",
       "        vertical-align: middle;\n",
       "    }\n",
       "\n",
       "    .dataframe tbody tr th {\n",
       "        vertical-align: top;\n",
       "    }\n",
       "\n",
       "    .dataframe thead th {\n",
       "        text-align: right;\n",
       "    }\n",
       "</style>\n",
       "<table border=\"1\" class=\"dataframe\">\n",
       "  <thead>\n",
       "    <tr style=\"text-align: right;\">\n",
       "      <th></th>\n",
       "      <th>Administrative</th>\n",
       "      <th>Administrative_Duration</th>\n",
       "      <th>Informational</th>\n",
       "      <th>Informational_Duration</th>\n",
       "      <th>ProductRelated</th>\n",
       "      <th>ProductRelated_Duration</th>\n",
       "      <th>BounceRates</th>\n",
       "      <th>ExitRates</th>\n",
       "      <th>PageValues</th>\n",
       "      <th>SpecialDay</th>\n",
       "      <th>Weekend</th>\n",
       "      <th>Revenue</th>\n",
       "    </tr>\n",
       "  </thead>\n",
       "  <tbody>\n",
       "    <tr>\n",
       "      <th>count</th>\n",
       "      <td>12316.000000</td>\n",
       "      <td>12316.000000</td>\n",
       "      <td>12316.000000</td>\n",
       "      <td>12316.000000</td>\n",
       "      <td>12316.000000</td>\n",
       "      <td>12316.000000</td>\n",
       "      <td>12316.000000</td>\n",
       "      <td>12316.000000</td>\n",
       "      <td>12316.000000</td>\n",
       "      <td>12316.000000</td>\n",
       "      <td>12316.000000</td>\n",
       "      <td>12316.000000</td>\n",
       "    </tr>\n",
       "    <tr>\n",
       "      <th>mean</th>\n",
       "      <td>2.317798</td>\n",
       "      <td>80.906176</td>\n",
       "      <td>0.503979</td>\n",
       "      <td>34.506387</td>\n",
       "      <td>31.763884</td>\n",
       "      <td>1196.037057</td>\n",
       "      <td>0.022152</td>\n",
       "      <td>0.043003</td>\n",
       "      <td>5.895952</td>\n",
       "      <td>0.061497</td>\n",
       "      <td>0.232624</td>\n",
       "      <td>0.154920</td>\n",
       "    </tr>\n",
       "    <tr>\n",
       "      <th>std</th>\n",
       "      <td>3.322754</td>\n",
       "      <td>176.860432</td>\n",
       "      <td>1.270701</td>\n",
       "      <td>140.825479</td>\n",
       "      <td>44.490339</td>\n",
       "      <td>1914.372511</td>\n",
       "      <td>0.048427</td>\n",
       "      <td>0.048527</td>\n",
       "      <td>18.577926</td>\n",
       "      <td>0.199020</td>\n",
       "      <td>0.422522</td>\n",
       "      <td>0.361844</td>\n",
       "    </tr>\n",
       "    <tr>\n",
       "      <th>min</th>\n",
       "      <td>0.000000</td>\n",
       "      <td>-1.000000</td>\n",
       "      <td>0.000000</td>\n",
       "      <td>-1.000000</td>\n",
       "      <td>0.000000</td>\n",
       "      <td>-1.000000</td>\n",
       "      <td>0.000000</td>\n",
       "      <td>0.000000</td>\n",
       "      <td>0.000000</td>\n",
       "      <td>0.000000</td>\n",
       "      <td>0.000000</td>\n",
       "      <td>0.000000</td>\n",
       "    </tr>\n",
       "    <tr>\n",
       "      <th>25%</th>\n",
       "      <td>0.000000</td>\n",
       "      <td>0.000000</td>\n",
       "      <td>0.000000</td>\n",
       "      <td>0.000000</td>\n",
       "      <td>7.000000</td>\n",
       "      <td>185.000000</td>\n",
       "      <td>0.000000</td>\n",
       "      <td>0.014286</td>\n",
       "      <td>0.000000</td>\n",
       "      <td>0.000000</td>\n",
       "      <td>0.000000</td>\n",
       "      <td>0.000000</td>\n",
       "    </tr>\n",
       "    <tr>\n",
       "      <th>50%</th>\n",
       "      <td>1.000000</td>\n",
       "      <td>8.000000</td>\n",
       "      <td>0.000000</td>\n",
       "      <td>0.000000</td>\n",
       "      <td>18.000000</td>\n",
       "      <td>599.766190</td>\n",
       "      <td>0.003119</td>\n",
       "      <td>0.025124</td>\n",
       "      <td>0.000000</td>\n",
       "      <td>0.000000</td>\n",
       "      <td>0.000000</td>\n",
       "      <td>0.000000</td>\n",
       "    </tr>\n",
       "    <tr>\n",
       "      <th>75%</th>\n",
       "      <td>4.000000</td>\n",
       "      <td>93.500000</td>\n",
       "      <td>0.000000</td>\n",
       "      <td>0.000000</td>\n",
       "      <td>38.000000</td>\n",
       "      <td>1466.479902</td>\n",
       "      <td>0.016684</td>\n",
       "      <td>0.050000</td>\n",
       "      <td>0.000000</td>\n",
       "      <td>0.000000</td>\n",
       "      <td>0.000000</td>\n",
       "      <td>0.000000</td>\n",
       "    </tr>\n",
       "    <tr>\n",
       "      <th>max</th>\n",
       "      <td>27.000000</td>\n",
       "      <td>3398.750000</td>\n",
       "      <td>24.000000</td>\n",
       "      <td>2549.375000</td>\n",
       "      <td>705.000000</td>\n",
       "      <td>63973.522230</td>\n",
       "      <td>0.200000</td>\n",
       "      <td>0.200000</td>\n",
       "      <td>361.763742</td>\n",
       "      <td>1.000000</td>\n",
       "      <td>1.000000</td>\n",
       "      <td>1.000000</td>\n",
       "    </tr>\n",
       "  </tbody>\n",
       "</table>\n",
       "</div>"
      ],
      "text/plain": [
       "       Administrative  Administrative_Duration  Informational  \\\n",
       "count    12316.000000             12316.000000   12316.000000   \n",
       "mean         2.317798                80.906176       0.503979   \n",
       "std          3.322754               176.860432       1.270701   \n",
       "min          0.000000                -1.000000       0.000000   \n",
       "25%          0.000000                 0.000000       0.000000   \n",
       "50%          1.000000                 8.000000       0.000000   \n",
       "75%          4.000000                93.500000       0.000000   \n",
       "max         27.000000              3398.750000      24.000000   \n",
       "\n",
       "       Informational_Duration  ProductRelated  ProductRelated_Duration  \\\n",
       "count            12316.000000    12316.000000             12316.000000   \n",
       "mean                34.506387       31.763884              1196.037057   \n",
       "std                140.825479       44.490339              1914.372511   \n",
       "min                 -1.000000        0.000000                -1.000000   \n",
       "25%                  0.000000        7.000000               185.000000   \n",
       "50%                  0.000000       18.000000               599.766190   \n",
       "75%                  0.000000       38.000000              1466.479902   \n",
       "max               2549.375000      705.000000             63973.522230   \n",
       "\n",
       "        BounceRates     ExitRates    PageValues    SpecialDay       Weekend  \\\n",
       "count  12316.000000  12316.000000  12316.000000  12316.000000  12316.000000   \n",
       "mean       0.022152      0.043003      5.895952      0.061497      0.232624   \n",
       "std        0.048427      0.048527     18.577926      0.199020      0.422522   \n",
       "min        0.000000      0.000000      0.000000      0.000000      0.000000   \n",
       "25%        0.000000      0.014286      0.000000      0.000000      0.000000   \n",
       "50%        0.003119      0.025124      0.000000      0.000000      0.000000   \n",
       "75%        0.016684      0.050000      0.000000      0.000000      0.000000   \n",
       "max        0.200000      0.200000    361.763742      1.000000      1.000000   \n",
       "\n",
       "            Revenue  \n",
       "count  12316.000000  \n",
       "mean       0.154920  \n",
       "std        0.361844  \n",
       "min        0.000000  \n",
       "25%        0.000000  \n",
       "50%        0.000000  \n",
       "75%        0.000000  \n",
       "max        1.000000  "
      ]
     },
     "execution_count": 44,
     "metadata": {},
     "output_type": "execute_result"
    }
   ],
   "source": [
    "data.describe()"
   ]
  },
  {
   "cell_type": "code",
   "execution_count": 45,
   "metadata": {},
   "outputs": [
    {
     "name": "stdout",
     "output_type": "stream",
     "text": [
      "<class 'pandas.core.frame.DataFrame'>\n",
      "Int64Index: 12316 entries, 0 to 12329\n",
      "Data columns (total 18 columns):\n",
      "Administrative             12316 non-null float64\n",
      "Administrative_Duration    12316 non-null float64\n",
      "Informational              12316 non-null float64\n",
      "Informational_Duration     12316 non-null float64\n",
      "ProductRelated             12316 non-null float64\n",
      "ProductRelated_Duration    12316 non-null float64\n",
      "BounceRates                12316 non-null float64\n",
      "ExitRates                  12316 non-null float64\n",
      "PageValues                 12316 non-null float64\n",
      "SpecialDay                 12316 non-null float64\n",
      "Month                      12316 non-null object\n",
      "OperatingSystems           12316 non-null object\n",
      "Browser                    12316 non-null object\n",
      "Region                     12316 non-null object\n",
      "TrafficType                12316 non-null object\n",
      "VisitorType                12316 non-null object\n",
      "Weekend                    12316 non-null int64\n",
      "Revenue                    12316 non-null int64\n",
      "dtypes: float64(10), int64(2), object(6)\n",
      "memory usage: 1.8+ MB\n"
     ]
    }
   ],
   "source": [
    "data.info()"
   ]
  },
  {
   "cell_type": "markdown",
   "metadata": {},
   "source": [
    "New features are created for the categorical featues using pd.get_dummies"
   ]
  },
  {
   "cell_type": "code",
   "execution_count": 46,
   "metadata": {},
   "outputs": [],
   "source": [
    "data=pd.get_dummies(data)"
   ]
  },
  {
   "cell_type": "code",
   "execution_count": 47,
   "metadata": {},
   "outputs": [
    {
     "name": "stdout",
     "output_type": "stream",
     "text": [
      "75\n",
      "Index(['Administrative', 'Administrative_Duration', 'Informational',\n",
      "       'Informational_Duration', 'ProductRelated', 'ProductRelated_Duration',\n",
      "       'BounceRates', 'ExitRates', 'PageValues', 'SpecialDay', 'Weekend',\n",
      "       'Revenue', 'Month_Aug', 'Month_Dec', 'Month_Feb', 'Month_Jul',\n",
      "       'Month_June', 'Month_Mar', 'Month_May', 'Month_Nov', 'Month_Oct',\n",
      "       'Month_Sep', 'OperatingSystems_1', 'OperatingSystems_2',\n",
      "       'OperatingSystems_3', 'OperatingSystems_4', 'OperatingSystems_5',\n",
      "       'OperatingSystems_6', 'OperatingSystems_7', 'OperatingSystems_8',\n",
      "       'Browser_1', 'Browser_2', 'Browser_3', 'Browser_4', 'Browser_5',\n",
      "       'Browser_6', 'Browser_7', 'Browser_8', 'Browser_9', 'Browser_10',\n",
      "       'Browser_11', 'Browser_12', 'Browser_13', 'Region_1', 'Region_2',\n",
      "       'Region_3', 'Region_4', 'Region_5', 'Region_6', 'Region_7', 'Region_8',\n",
      "       'Region_9', 'TrafficType_1', 'TrafficType_2', 'TrafficType_3',\n",
      "       'TrafficType_4', 'TrafficType_5', 'TrafficType_6', 'TrafficType_7',\n",
      "       'TrafficType_8', 'TrafficType_9', 'TrafficType_10', 'TrafficType_11',\n",
      "       'TrafficType_12', 'TrafficType_13', 'TrafficType_14', 'TrafficType_15',\n",
      "       'TrafficType_16', 'TrafficType_17', 'TrafficType_18', 'TrafficType_19',\n",
      "       'TrafficType_20', 'VisitorType_New_Visitor', 'VisitorType_Other',\n",
      "       'VisitorType_Returning_Visitor'],\n",
      "      dtype='object')\n"
     ]
    }
   ],
   "source": [
    "print(len(data.columns))\n",
    "print(data.columns)"
   ]
  },
  {
   "cell_type": "markdown",
   "metadata": {},
   "source": [
    "Checking for variance in Numerical Features"
   ]
  },
  {
   "cell_type": "code",
   "execution_count": 48,
   "metadata": {},
   "outputs": [],
   "source": [
    "num_column=['Administrative','Administrative_Duration','Informational','Informational_Duration','ProductRelated','ProductRelated_Duration','BounceRates','ExitRates','PageValues']\n",
    "data_variance=[]\n",
    "for i in num_column:\n",
    "    data_variance.append(data[i].var())\n"
   ]
  },
  {
   "cell_type": "code",
   "execution_count": 49,
   "metadata": {},
   "outputs": [
    {
     "data": {
      "text/plain": [
       "[11.040693356184047,\n",
       " 31279.612416369433,\n",
       " 1.6146816930848196,\n",
       " 19831.81564532657,\n",
       " 1979.3902862989419,\n",
       " 3664822.1103087845,\n",
       " 0.00234518677639177,\n",
       " 0.0023548988288224597,\n",
       " 345.1393266296222]"
      ]
     },
     "execution_count": 49,
     "metadata": {},
     "output_type": "execute_result"
    }
   ],
   "source": [
    "data_variance"
   ]
  },
  {
   "cell_type": "markdown",
   "metadata": {},
   "source": [
    "Features Administrative_Duration,Informational_Duration,ProductRelated,ProductRelated_Duration have high variance data \n",
    "\n",
    "DETECTING OUTLIERS IN ADMINISTRATIVE DURATION,INFORMATIONAL DURATION,PRODUCT RELATED,PRODUCT RELATED DURATION  \n",
    "\n",
    "Instead of dropping the outliers ,the value of these outliers are imputed by the mean of their respective features.The following values imputed can be obtained from data.describe().By the definition of outliers interms of Z-score any value greater than 3 will be treated as an outlier."
   ]
  },
  {
   "cell_type": "code",
   "execution_count": 50,
   "metadata": {},
   "outputs": [],
   "source": [
    "outlier_column=['Administrative_Duration','Informational_Duration','ProductRelated','ProductRelated_Duration']"
   ]
  },
  {
   "cell_type": "code",
   "execution_count": 51,
   "metadata": {},
   "outputs": [],
   "source": [
    "from scipy import stats\n",
    "z_score = np.abs(stats.zscore(data.ProductRelated_Duration))\n",
    "threshold = 3\n",
    "a_product=np.where(z_score > 3)\n",
    "for i in a_product[0]:\n",
    "    data.ProductRelated_Duration.iloc[i]=1196.037057"
   ]
  },
  {
   "cell_type": "code",
   "execution_count": 52,
   "metadata": {},
   "outputs": [],
   "source": [
    "z_score_Administrative_Duration=np.abs(stats.zscore(data.ProductRelated))\n",
    "a_Administrative_Duration=np.where(z_score_Administrative_Duration> 3)\n",
    "for i in a_Administrative_Duration[0]:\n",
    "    data.Administrative_Duration.iloc[i]=80.906176"
   ]
  },
  {
   "cell_type": "code",
   "execution_count": 53,
   "metadata": {},
   "outputs": [],
   "source": [
    "z_score_ProductRelated=np.abs(stats.zscore(data.ProductRelated))\n",
    "a_ProductRelated=np.where(z_score_ProductRelated> 3)\n",
    "for i in a_ProductRelated[0]:\n",
    "    data.ProductRelated.iloc[i]=31.763884"
   ]
  },
  {
   "cell_type": "code",
   "execution_count": 54,
   "metadata": {},
   "outputs": [],
   "source": [
    "z_score_Informational_Duration = np.abs(stats.zscore(data.Informational_Duration))\n",
    "a_product_Informational_Duration=np.where(z_score_Informational_Duration > 3)\n",
    "for i in a_product_Informational_Duration[0]:\n",
    "    data.Informational_Duration.iloc[i]=34.506387"
   ]
  },
  {
   "cell_type": "code",
   "execution_count": 55,
   "metadata": {},
   "outputs": [
    {
     "data": {
      "text/plain": [
       "Administrative                   1.104069e+01\n",
       "Administrative_Duration          2.702344e+04\n",
       "Informational                    1.614682e+00\n",
       "Informational_Duration           3.504453e+03\n",
       "ProductRelated                   8.628774e+02\n",
       "ProductRelated_Duration          1.478024e+06\n",
       "BounceRates                      2.345187e-03\n",
       "ExitRates                        2.354899e-03\n",
       "PageValues                       3.451393e+02\n",
       "SpecialDay                       3.960877e-02\n",
       "Weekend                          1.785247e-01\n",
       "Revenue                          1.309307e-01\n",
       "Month_Aug                        3.392422e-02\n",
       "Month_Dec                        1.205711e-01\n",
       "Month_Feb                        1.471791e-02\n",
       "Month_Jul                        3.384872e-02\n",
       "Month_June                       2.283925e-02\n",
       "Month_Mar                        1.301448e-01\n",
       "Month_May                        1.985141e-01\n",
       "Month_Nov                        1.841833e-01\n",
       "Month_Oct                        4.259259e-02\n",
       "Month_Sep                        3.505512e-02\n",
       "OperatingSystems_1               1.657080e-01\n",
       "OperatingSystems_2               2.487727e-01\n",
       "OperatingSystems_3               1.642874e-01\n",
       "OperatingSystems_4               3.730801e-02\n",
       "OperatingSystems_5               4.869734e-04\n",
       "OperatingSystems_6               1.540454e-03\n",
       "OperatingSystems_7               5.680894e-04\n",
       "OperatingSystems_8               6.373793e-03\n",
       "                                     ...     \n",
       "Region_3                         1.570066e-01\n",
       "Region_4                         8.657210e-02\n",
       "Region_5                         2.507842e-02\n",
       "Region_6                         6.102429e-02\n",
       "Region_7                         5.797630e-02\n",
       "Region_8                         3.399971e-02\n",
       "Region_9                         3.977249e-02\n",
       "TrafficType_1                    1.590751e-01\n",
       "TrafficType_2                    2.166719e-01\n",
       "TrafficType_3                    1.388099e-01\n",
       "TrafficType_4                    7.927026e-02\n",
       "TrafficType_5                    2.066676e-02\n",
       "TrafficType_6                    3.475384e-02\n",
       "TrafficType_7                    3.237522e-03\n",
       "TrafficType_8                    2.707653e-02\n",
       "TrafficType_9                    3.398845e-03\n",
       "TrafficType_10                   3.520568e-02\n",
       "TrafficType_11                   1.965460e-02\n",
       "TrafficType_12                   8.119519e-05\n",
       "TrafficType_13                   5.626450e-02\n",
       "TrafficType_14                   1.054509e-03\n",
       "TrafficType_15                   2.995440e-03\n",
       "TrafficType_16                   2.435460e-04\n",
       "TrafficType_17                   8.119519e-05\n",
       "TrafficType_18                   8.113585e-04\n",
       "TrafficType_19                   1.378525e-03\n",
       "TrafficType_20                   1.581947e-02\n",
       "VisitorType_New_Visitor          1.186358e-01\n",
       "VisitorType_Other                6.854516e-03\n",
       "VisitorType_Returning_Visitor    1.235916e-01\n",
       "Length: 75, dtype: float64"
      ]
     },
     "execution_count": 55,
     "metadata": {},
     "output_type": "execute_result"
    }
   ],
   "source": [
    "data.var()"
   ]
  },
  {
   "cell_type": "code",
   "execution_count": 64,
   "metadata": {},
   "outputs": [
    {
     "data": {
      "text/plain": [
       "array([[<matplotlib.axes._subplots.AxesSubplot object at 0x0000022DE1AA50F0>,\n",
       "        <matplotlib.axes._subplots.AxesSubplot object at 0x0000022DE1ACFCC0>],\n",
       "       [<matplotlib.axes._subplots.AxesSubplot object at 0x0000022DE184D278>,\n",
       "        <matplotlib.axes._subplots.AxesSubplot object at 0x0000022DE187C828>]],\n",
       "      dtype=object)"
      ]
     },
     "execution_count": 64,
     "metadata": {},
     "output_type": "execute_result"
    },
    {
     "data": {
      "image/png": "[encoded data removed]",
      "text/plain": [
       "<Figure size 720x720 with 4 Axes>"
      ]
     },
     "metadata": {
      "needs_background": "light"
     },
     "output_type": "display_data"
    }
   ],
   "source": [
    "#Checking the distribution of the data and are observed to be Positively skewed\n",
    "fig=plt.figure(figsize=(10,10))\n",
    "ax=fig.gca()\n",
    "data.hist(column=['ProductRelated_Duration','Informational_Duration','Administrative_Duration','ProductRelated'],ax=ax)"
   ]
  },
  {
   "cell_type": "code",
   "execution_count": 57,
   "metadata": {},
   "outputs": [],
   "source": [
    "#Changing the distribution of the data to be nearly symmetrical distribution\n",
    "data.ProductRelated_Duration=np.cbrt(data.ProductRelated_Duration)\n",
    "data.Informational_Duration=np.cbrt(data.Informational_Duration)\n",
    "data.Administrative_Duration=np.cbrt(data.Administrative_Duration)\n",
    "data.ProductRelated =np.cbrt(data.ProductRelated )\n"
   ]
  },
  {
   "cell_type": "code",
   "execution_count": 58,
   "metadata": {},
   "outputs": [],
   "source": [
    "data_variance3=[]\n",
    "for i in num_column:\n",
    "    data_variance3.append(data[i].var())"
   ]
  },
  {
   "cell_type": "code",
   "execution_count": 59,
   "metadata": {},
   "outputs": [
    {
     "data": {
      "text/plain": [
       "[11.040693356184047,\n",
       " 6.980801821744106,\n",
       " 1.6146816930848196,\n",
       " 3.053810439592483,\n",
       " 0.9988650974854876,\n",
       " 16.976926466075415,\n",
       " 0.00234518677639177,\n",
       " 0.0023548988288224597,\n",
       " 345.1393266296222]"
      ]
     },
     "execution_count": 59,
     "metadata": {},
     "output_type": "execute_result"
    }
   ],
   "source": [
    "data_variance3"
   ]
  },
  {
   "cell_type": "markdown",
   "metadata": {},
   "source": [
    "Variance of the data has been reduced and distribution of the data is checked by plotting a histogram"
   ]
  },
  {
   "cell_type": "code",
   "execution_count": 62,
   "metadata": {},
   "outputs": [
    {
     "data": {
      "text/plain": [
       "array([[<matplotlib.axes._subplots.AxesSubplot object at 0x0000022DE0676080>,\n",
       "        <matplotlib.axes._subplots.AxesSubplot object at 0x0000022DE031CCC0>],\n",
       "       [<matplotlib.axes._subplots.AxesSubplot object at 0x0000022DDEDF3588>,\n",
       "        <matplotlib.axes._subplots.AxesSubplot object at 0x0000022DE0E57E48>]],\n",
       "      dtype=object)"
      ]
     },
     "execution_count": 62,
     "metadata": {},
     "output_type": "execute_result"
    },
    {
     "data": {
      "image/png": "[encoded data removed]",
      "text/plain": [
       "<Figure size 720x720 with 4 Axes>"
      ]
     },
     "metadata": {
      "needs_background": "light"
     },
     "output_type": "display_data"
    }
   ],
   "source": [
    "fig=plt.figure(figsize=(10,10))\n",
    "ax=fig.gca()\n",
    "data.hist(column=['ProductRelated_Duration','Informational_Duration','Administrative_Duration','ProductRelated'],ax=ax)"
   ]
  },
  {
   "cell_type": "markdown",
   "metadata": {},
   "source": [
    "EXPLORATORY DATA ANALYSIS"
   ]
  },
  {
   "cell_type": "code",
   "execution_count": 75,
   "metadata": {},
   "outputs": [
    {
     "data": {
      "text/plain": [
       "<matplotlib.axes._subplots.AxesSubplot at 0x22de9229080>"
      ]
     },
     "execution_count": 75,
     "metadata": {},
     "output_type": "execute_result"
    },
    {
     "data": {
      "image/png": "[encoded data removed]",
      "text/plain": [
       "<Figure size 576x576 with 2 Axes>"
      ]
     },
     "metadata": {
      "needs_background": "light"
     },
     "output_type": "display_data"
    }
   ],
   "source": [
    "#Impractical to use a heat map and find out positively and negatively correlated features \n",
    "#and most of the color lies between +0.3 and -0.3\n",
    "fig=plt.figure(figsize=(8,8))\n",
    "ax=fig.gca()\n",
    "sns.heatmap(data.corr(),ax=ax)\n",
    "\n"
   ]
  },
  {
   "cell_type": "markdown",
   "metadata": {},
   "source": []
  },
  {
   "cell_type": "code",
   "execution_count": 76,
   "metadata": {},
   "outputs": [
    {
     "data": {
      "text/plain": [
       "<matplotlib.axes._subplots.AxesSubplot at 0x22de9489a58>"
      ]
     },
     "execution_count": 76,
     "metadata": {},
     "output_type": "execute_result"
    },
    {
     "data": {
      "image/png": "[encoded data removed]",
      "text/plain": [
       "<Figure size 432x288 with 1 Axes>"
      ]
     },
     "metadata": {
      "needs_background": "light"
     },
     "output_type": "display_data"
    }
   ],
   "source": [
    "sns.countplot(data.Revenue)"
   ]
  },
  {
   "cell_type": "markdown",
   "metadata": {},
   "source": [
    "one indicates the purchase of a product online and zero indicates the  opposite of it.This clearly tell us that the data is imbalanced.Number of Zeros are far greater than the number of ones.Running the  model on this data produces biased results for the majority level that is zero.In order to eliminate this Undersampling of the majority class is done ."
   ]
  },
  {
   "cell_type": "code",
   "execution_count": 77,
   "metadata": {},
   "outputs": [
    {
     "name": "stdout",
     "output_type": "stream",
     "text": [
      "1908\n",
      "10408\n"
     ]
    }
   ],
   "source": [
    "minority_len=len(data[data['Revenue']==1])\n",
    "print(minority_len)\n",
    "majority_indices=data[data['Revenue']==0].index\n",
    "print(len(majority_indices))"
   ]
  },
  {
   "cell_type": "code",
   "execution_count": 78,
   "metadata": {},
   "outputs": [],
   "source": [
    "random_majority_indice=np.random.choice(majority_indices,minority_len,replace=False)\n",
    "minority_class_indices=data[data['Revenue']==1].index"
   ]
  },
  {
   "cell_type": "code",
   "execution_count": 79,
   "metadata": {},
   "outputs": [
    {
     "data": {
      "text/plain": [
       "<matplotlib.axes._subplots.AxesSubplot at 0x22de9343eb8>"
      ]
     },
     "execution_count": 79,
     "metadata": {},
     "output_type": "execute_result"
    },
    {
     "data": {
      "image/png": "[encoded data removed]",
      "text/plain": [
       "<Figure size 432x288 with 1 Axes>"
      ]
     },
     "metadata": {
      "needs_background": "light"
     },
     "output_type": "display_data"
    }
   ],
   "source": [
    "under_sample_indices=np.concatenate([minority_class_indices,random_majority_indice])\n",
    "data1=data.loc[under_sample_indices]\n",
    "sns.countplot(x='Revenue',data=data1)"
   ]
  },
  {
   "cell_type": "code",
   "execution_count": 83,
   "metadata": {},
   "outputs": [],
   "source": [
    "X=data1.loc[:,data.columns!='Revenue']\n",
    "y=data1.loc[:,data.columns=='Revenue']"
   ]
  },
  {
   "cell_type": "code",
   "execution_count": 84,
   "metadata": {},
   "outputs": [],
   "source": [
    "from sklearn.model_selection import train_test_split\n",
    "X_train, X_test, y_train, y_test = train_test_split(X, y, test_size=0.3, random_state=101)\n"
   ]
  },
  {
   "cell_type": "code",
   "execution_count": 85,
   "metadata": {},
   "outputs": [],
   "source": [
    "from sklearn.preprocessing import StandardScaler\n",
    "scalar=StandardScaler()\n",
    "X_train=scalar.fit_transform(X_train)\n",
    "X_test=scalar.transform(X_test)"
   ]
  },
  {
   "cell_type": "code",
   "execution_count": 111,
   "metadata": {},
   "outputs": [
    {
     "name": "stderr",
     "output_type": "stream",
     "text": [
      "C:\\Users\\parameshwari\\Anaconda3\\lib\\site-packages\\sklearn\\utils\\validation.py:73: DataConversionWarning: A column-vector y was passed when a 1d array was expected. Please change the shape of y to (n_samples, ), for example using ravel().\n",
      "  return f(**kwargs)\n"
     ]
    }
   ],
   "source": [
    "from sklearn.linear_model import LogisticRegression\n",
    "model=LogisticRegression()\n",
    "model.fit(X_train,y_train)\n",
    "pred=model1.predict(X_test)"
   ]
  },
  {
   "cell_type": "code",
   "execution_count": 122,
   "metadata": {},
   "outputs": [
    {
     "name": "stdout",
     "output_type": "stream",
     "text": [
      "0.8898927211482133\n"
     ]
    }
   ],
   "source": [
    "from sklearn.metrics import roc_auc_score\n",
    "y_pred_prob=model.predict_proba(X_test)[:,1]\n",
    "print(roc_auc_score(y_test,y_pred_prob))"
   ]
  },
  {
   "cell_type": "code",
   "execution_count": 123,
   "metadata": {},
   "outputs": [
    {
     "name": "stdout",
     "output_type": "stream",
     "text": [
      "              precision    recall  f1-score   support\n",
      "\n",
      "           0       0.77      0.85      0.81       569\n",
      "           1       0.84      0.75      0.79       576\n",
      "\n",
      "    accuracy                           0.80      1145\n",
      "   macro avg       0.80      0.80      0.80      1145\n",
      "weighted avg       0.80      0.80      0.80      1145\n",
      "\n",
      "[[486  83]\n",
      " [145 431]]\n"
     ]
    }
   ],
   "source": [
    "print(classification_report(y_test,pred))\n",
    "print(confusion_matrix(y_test,pred))"
   ]
  },
  {
   "cell_type": "code",
   "execution_count": 124,
   "metadata": {},
   "outputs": [
    {
     "name": "stdout",
     "output_type": "stream",
     "text": [
      "0.8244103332085362\n",
      "0.8008733624454148\n"
     ]
    }
   ],
   "source": [
    "print(model1.score(X_train,y_train))\n",
    "print(model1.score(X_test,y_test))"
   ]
  },
  {
   "cell_type": "markdown",
   "metadata": {},
   "source": [
    "With Random Forest Classifier"
   ]
  },
  {
   "cell_type": "code",
   "execution_count": 126,
   "metadata": {},
   "outputs": [
    {
     "name": "stderr",
     "output_type": "stream",
     "text": [
      "C:\\Users\\parameshwari\\Anaconda3\\lib\\site-packages\\ipykernel_launcher.py:3: DataConversionWarning: A column-vector y was passed when a 1d array was expected. Please change the shape of y to (n_samples,), for example using ravel().\n",
      "  This is separate from the ipykernel package so we can avoid doing imports until\n"
     ]
    },
    {
     "name": "stdout",
     "output_type": "stream",
     "text": [
      "              precision    recall  f1-score   support\n",
      "\n",
      "           0       0.86      0.85      0.86       569\n",
      "           1       0.86      0.87      0.86       576\n",
      "\n",
      "    accuracy                           0.86      1145\n",
      "   macro avg       0.86      0.86      0.86      1145\n",
      "weighted avg       0.86      0.86      0.86      1145\n",
      "\n",
      "[[485  84]\n",
      " [ 77 499]]\n"
     ]
    }
   ],
   "source": [
    "from sklearn.ensemble import RandomForestClassifier\n",
    "model_RFC=RandomForestClassifier()\n",
    "model_RFC.fit(X_train,y_train)\n",
    "pred2=model_RFC.predict(X_test)\n",
    "print(classification_report(y_test,pred2))\n",
    "print(confusion_matrix(y_test,pred2))"
   ]
  },
  {
   "cell_type": "code",
   "execution_count": 110,
   "metadata": {},
   "outputs": [
    {
     "name": "stdout",
     "output_type": "stream",
     "text": [
      "1.0\n",
      "0.8550218340611354\n"
     ]
    }
   ],
   "source": [
    "print(model_RFC.score(X_train,y_train))\n",
    "print(model_RFC.score(X_test,y_test))\n"
   ]
  },
  {
   "cell_type": "code",
   "execution_count": 128,
   "metadata": {},
   "outputs": [
    {
     "name": "stdout",
     "output_type": "stream",
     "text": [
      "0.9164317272017185\n"
     ]
    }
   ],
   "source": [
    "y_pred_prob_rfc=model_RFC.predict_proba(X_test)[:,1]\n",
    "print(roc_auc_score(y_test,y_pred_prob_rfc))"
   ]
  },
  {
   "cell_type": "markdown",
   "metadata": {},
   "source": [
    "Random Forest performs better than Logistic regression based on obserivng the score of Training,testing and Area under the scores\n",
    "\n",
    "\n",
    "\n"
   ]
  }
 ],
 "metadata": {
  "kernelspec": {
   "display_name": "Python 3",
   "language": "python",
   "name": "python3"
  },
  "language_info": {
   "codemirror_mode": {
    "name": "ipython",
    "version": 3
   },
   "file_extension": ".py",
   "mimetype": "text/x-python",
   "name": "python",
   "nbconvert_exporter": "python",
   "pygments_lexer": "ipython3",
   "version": "3.7.3"
  }
 },
 "nbformat": 4,
 "nbformat_minor": 2
}
